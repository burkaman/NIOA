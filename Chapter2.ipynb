{
 "cells": [
  {
   "cell_type": "markdown",
   "metadata": {
    "collapsed": true,
    "pycharm": {
     "name": "#%% md\n"
    }
   },
   "source": [
    "# Norms\n",
    "\n",
    "The $p$-norm or $L_p$-norm of a vector $\\textbf{x}$ is:\n",
    "\n",
    "$\\|\\textbf{x}\\|_p\\equiv\\left(|x_1|^p+|x_2|^p+\\dotsb+|x_n|^p\\right)^{1/p}=\\left(\\sum\\limits^n_{i=1}|x_i|^p\\right)^{1/p}, p>0$\n",
    "\n",
    "Most common is $L_2$, the Euclidean or Cartesian norm:\n",
    "\n",
    "$\\|\\textbf{x}\\|=\\sqrt{x_1^2+x_2^2+\\dotsb+x_n^2}$\n",
    "\n",
    "May also see the $L_1$-norm:\n",
    "\n",
    "$\\|\\textbf{x}\\|_1=|x_1|+|x_2|+\\dotsb+|x_n|$\n",
    "\n",
    "and the $L_\\infty$-norm:\n",
    "\n",
    "$\\|\\textbf{x}\\|_\\infty=max\\{|x_1|, |x_2|, ..., |x_n|\\}=x_{max}$\n",
    "\n",
    "We can also take the Frobenius norm of a matrix, equivalent to the $L_2$-norm:\n",
    "\n",
    "$\\|\\textbf{A}\\|_F=\\sqrt{\\sum\\limits_{i=1}^m\\sum\\limits_{j=1}^n|a_{ij}|^2}=\\sqrt{{\\rm tr}(A^TA)}$\n",
    "\n",
    "The matrix $L_1$ norm is the maximum absolute column sum:\n",
    "\n",
    "$\\|\\textbf{A}\\|_1={\\rm max}\\sum\\limits_{i=1}^m|a_{ij}|, 1\\leq j\\leq n$\n",
    "\n",
    "Matrix $L_\\infty$ is the same, but for row sums.\n",
    "\n",
    "[numpy norms](https://numpy.org/doc/stable/reference/generated/numpy.linalg.norm.html)"
   ]
  },
  {
   "cell_type": "code",
   "execution_count": 5,
   "outputs": [
    {
     "name": "stdout",
     "output_type": "stream",
     "text": [
      "Vector: [1 2 3 4]\n",
      "Matrix:\n",
      " [[1 2]\n",
      " [3 4]]\n",
      "Matrix transpose:\n",
      " [[1 3]\n",
      " [2 4]]\n",
      "Matrix trace:\n",
      " 5\n",
      "L1 vector norm: 10.0\n",
      "L1 matrix norm: 6.0\n",
      "L2 vector norm: 5.477225575051661\n",
      "L2 matrix norm: 5.464985704219043\n",
      "Linf vector norm: 4.0\n",
      "Linf matrix norm: 7.0\n",
      "Frobenius matrix norm: 5.477225575051661\n",
      "Frobenius trace equivalent: 5.477225575051661\n"
     ]
    }
   ],
   "source": [
    "import math\n",
    "import numpy as np\n",
    "from numpy import linalg as LA\n",
    "\n",
    "vector = np.array([1, 2, 3, 4])\n",
    "matrix = vector.reshape((2, 2))\n",
    "print('Vector:', vector)\n",
    "print('Matrix:\\n', matrix)\n",
    "print('Matrix transpose:\\n', matrix.transpose())\n",
    "print('Matrix trace:\\n', matrix.trace())\n",
    "print('L1 vector norm:', LA.norm(vector, ord=1))\n",
    "print('L1 matrix norm:', LA.norm(matrix, ord=1))\n",
    "print('L2 vector norm:', LA.norm(vector, ord=2))\n",
    "print('L2 matrix norm:', LA.norm(matrix, ord=2))\n",
    "print('Linf vector norm:', LA.norm(vector, ord=np.inf))\n",
    "print('Linf matrix norm:', LA.norm(matrix, ord=np.inf))\n",
    "print('Frobenius matrix norm:', LA.norm(matrix, ord='fro'))\n",
    "print('Frobenius trace equivalent:', math.sqrt(matrix.dot(matrix.transpose()).trace()))"
   ],
   "metadata": {
    "collapsed": false,
    "pycharm": {
     "name": "#%%\n"
    }
   }
  }
 ],
 "metadata": {
  "kernelspec": {
   "name": "pycharm-55871ef2",
   "language": "python",
   "display_name": "PyCharm (NIOA)"
  },
  "language_info": {
   "codemirror_mode": {
    "name": "ipython",
    "version": 2
   },
   "file_extension": ".py",
   "mimetype": "text/x-python",
   "name": "python",
   "nbconvert_exporter": "python",
   "pygments_lexer": "ipython2",
   "version": "2.7.6"
  }
 },
 "nbformat": 4,
 "nbformat_minor": 0
}