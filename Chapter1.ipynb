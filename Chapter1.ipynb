{
 "cells": [
  {
   "cell_type": "markdown",
   "source": [
    "## Simple Square Root\n",
    "\n",
    "TODO: Compare to bisection method\n",
    "\n",
    "Simple algorithm for the square root of $k$, where $k>0$:\n",
    "\n",
    "$x_{t+1}=\\frac{1}{2}(x_t+\\frac{k}{x_t})$\n",
    "\n",
    "Derivation:\n",
    "\n",
    "$x^2=k$\n",
    "\n",
    "$x=\\frac{k}{x}$\n",
    "\n",
    "$\\frac{x}{2}=\\frac{k}{2x}=\\frac{1}{2}(\\frac{k}{x})$\n",
    "\n",
    "$\\frac{x}{2}+\\frac{x}{2}=\\frac{1}{2}(\\frac{k}{x})+\\frac{x}{2}$\n",
    "\n",
    "$x=\\frac{1}{2}(x+\\frac{k}{x})$"
   ],
   "metadata": {
    "collapsed": false,
    "pycharm": {
     "name": "#%% md\n"
    }
   }
  },
  {
   "cell_type": "code",
   "execution_count": null,
   "metadata": {
    "collapsed": true,
    "pycharm": {
     "name": "#%%\n"
    }
   },
   "outputs": [],
   "source": [
    "import math\n",
    "\n",
    "def sqrt(k: float, x0: float, t: int) -> float:\n",
    "    \"\"\"\n",
    "    Estimate the square root of k with t iterations\n",
    "    :param k: a positive number\n",
    "    :param x0: initial guess of the square root of k\n",
    "    :param t: number of iterations\n",
    "    :return: the estimated square root of k\n",
    "    \"\"\"\n",
    "    if t == 0:\n",
    "        return x0\n",
    "    prev = sqrt(k, x0, t - 1)\n",
    "    return 0.5*(prev + (k / prev))\n",
    "\n",
    "print(\"Estimate:\", sqrt(7, 1, 5))\n",
    "print(\"Exact:\", math.sqrt(7))"
   ]
  },
  {
   "cell_type": "markdown",
   "source": [
    "How fast do different values of $x_0$ converge to the square root?"
   ],
   "metadata": {
    "collapsed": false,
    "pycharm": {
     "name": "#%% md\n"
    }
   }
  },
  {
   "cell_type": "code",
   "execution_count": null,
   "outputs": [],
   "source": [
    "%matplotlib inline\n",
    "import math\n",
    "import matplotlib.pyplot as plt\n",
    "from typing import List\n",
    "\n",
    "def sqrt_iterations(k: float, prev: float, target: float, tolerance: float) -> List[float]:\n",
    "    \"\"\"\n",
    "    Estimate the square root of k until within tolerance\n",
    "    :param k: a positive number\n",
    "    :param prev: initial estimate\n",
    "    :param target: actual square root\n",
    "    :param tolerance: desired distance from target\n",
    "    :return: a list of estimates from each iteration\n",
    "    \"\"\"\n",
    "    new_value = 0.5*(prev + (k / prev))\n",
    "    if abs(new_value - target) <= tolerance:\n",
    "        return [new_value]\n",
    "    return [new_value] + sqrt_iterations(k, new_value, target, tolerance)\n",
    "\n",
    "plt.figure(\"sqrt\")\n",
    "plt.plot([1.] + sqrt_iterations(7, 1, math.sqrt(7), 0.00001))\n",
    "plt.plot([5.] + sqrt_iterations(7, 5, math.sqrt(7), 0.00001))\n",
    "plt.plot([50.] + sqrt_iterations(7, 50, math.sqrt(7), 0.00001))\n",
    "plt.xlabel(\"Iteration\")\n",
    "plt.ylabel(\"Distance from target\")\n",
    "plt.show()"
   ],
   "metadata": {
    "collapsed": false,
    "pycharm": {
     "name": "#%%\n"
    }
   }
  },
  {
   "cell_type": "markdown",
   "source": [
    "## Newton's Method\n",
    "\n",
    "A centuries-old method for finding the zeros of a nonlinear univariate function.\n",
    "\n",
    "For a function $f(x)$, at any point $x_t$, we can approximate the value of $f(x_{t+1})$ where $\\Delta x=x_{t+1}-x_t$:\n",
    "\n",
    "$f(x_{t+1})=f(x_t+\\Delta x)\\approx f(x_t)+f^{'}(x_t)\\Delta x$\n",
    "\n",
    "To get the value at the next point, take the current value and add the slope multiplied by the distance to the next point.\n",
    "\n",
    "Solve for $x_{t+1}$:\n",
    "\n",
    "$x_{t+1}\\approx x_t+\\frac{f(x_{t+1})-f(x_t)}{f^{'}(x_t)}$\n",
    "\n",
    "To find the root, we're always hoping that $f(x_{t+1})$ will be 0. So we can approximate:\n",
    "\n",
    "$x_{t+1}=x_t-\\frac{f(x_t)}{f^{'}(x_t)}$\n",
    "\n",
    "Consider the equation $x^x=e^x, x\\in[0, \\infty)$. There are two roots, $0$ and $e$.\n",
    "\n",
    "To find them we can use $f(x)=x^x-e^x=0$."
   ],
   "metadata": {
    "collapsed": false
   }
  },
  {
   "cell_type": "code",
   "execution_count": 12,
   "outputs": [
    {
     "data": {
      "text/plain": "<Figure size 432x288 with 1 Axes>",
      "image/png": "[encoded data removed]"
     },
     "metadata": {
      "needs_background": "light"
     },
     "output_type": "display_data"
    }
   ],
   "source": [
    "%matplotlib inline\n",
    "import math\n",
    "import matplotlib.pyplot as plt\n",
    "import numpy\n",
    "import sympy as sp\n",
    "\n",
    "x = sp.symbols('x')\n",
    "\n",
    "def newton(equation: sp.Expr, derivative: sp.Expr, prev: float, tolerance: float) -> List[float]:\n",
    "    \"\"\"\n",
    "    Attempt to find a root of equation within tolerance\n",
    "    :param equation: an equation of x equal to 0\n",
    "    :param derivative: the derivative of equation\n",
    "    :param prev: initial estimate\n",
    "    :param tolerance: desired distance from 0\n",
    "    :return: a list of estimates from each iteration\n",
    "    \"\"\"\n",
    "    new_value = prev - (equation.subs(x, prev).evalf() / derivative.subs(x, prev).evalf())\n",
    "    if new_value <= tolerance:\n",
    "        return [new_value]\n",
    "    return [new_value] + newton(equation, new_value, tolerance)\n",
    "\n",
    "plt.figure(\"newton1\")\n",
    "plt.plot([1.] + newton(7, 1, math.sqrt(7), 0.00001))\n",
    "plt.plot([5.] + sqrt_iterations(7, 5, math.sqrt(7), 0.00001))\n",
    "plt.plot([50.] + sqrt_iterations(7, 50, math.sqrt(7), 0.00001))\n",
    "plt.xlabel(\"Iteration\")\n",
    "plt.ylabel(\"Distance from target\")\n",
    "plt.show()"
   ],
   "metadata": {
    "collapsed": false,
    "pycharm": {
     "name": "#%%\n"
    }
   }
  }
 ],
 "metadata": {
  "kernelspec": {
   "name": "pycharm-55871ef2",
   "language": "python",
   "display_name": "PyCharm (NIOA)"
  },
  "language_info": {
   "codemirror_mode": {
    "name": "ipython",
    "version": 2
   },
   "file_extension": ".py",
   "mimetype": "text/x-python",
   "name": "python",
   "nbconvert_exporter": "python",
   "pygments_lexer": "ipython2",
   "version": "2.7.6"
  }
 },
 "nbformat": 4,
 "nbformat_minor": 0
}